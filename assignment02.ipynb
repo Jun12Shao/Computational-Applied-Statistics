{
 "cells": [
  {
   "cell_type": "markdown",
   "metadata": {},
   "source": [
    "# Assignment 2\n",
    "- Donwload the credit dataset 'Credit.csv' from  https://github.com/vahidpartovinia/ycbs255/\n",
    "- Create the attribute matrix  'X' as a subset of the data that includes only the qualitative attributes 'Income', 'Limit', 'Rating', 'Cards', 'Age', and 'Education'\n",
    "- Create a discrete response variable, say 'y' by transforming 'Balance' to a binary output, which equals 1 if 'Balance > 1500' and equals 0 otherwise.\n",
    "- Fit 1- logistic regression, 2- linear discriminant, and 3- quadratic discriminant on the binary Balance as the output variable. Use 'Income', 'Limit', 'Rating', 'Cards', 'Age', and 'Education' as the input variables. \n",
    "- Find the probability of (Balance > 1500), for x1 and x2 below, using these three methods. Compare these probabilities and comment.\n",
    "\n",
    "\n",
    "x1= 'Income' = 63, 'Limit' = 8100, 'Rating' = 600, 'Cards' = 4, 'Age' = 30, 'Education' =14 \n",
    "\n",
    "x2= 'Income' = 186, 'Limit' = 13414, 'Rating' = 950, 'Cards' = 2, 'Age' = 41, 'Education' =13 \n",
    "\n",
    "# Submission note\n",
    "Please fill this jupyter notebook. Extract the pdf file as follows. On  Jupyter manue go to File/Print Preview, then on Browser menu go to File/Print. \n",
    "\n",
    "## Only PDF  Submissions will be graded\n"
   ]
  },
  {
   "cell_type": "code",
   "execution_count": 1,
   "metadata": {
    "collapsed": true
   },
   "outputs": [],
   "source": [
    "import pandas as pd \n",
    "path='data/'\n",
    "filename=path+'Credit.csv'\n",
    "credit=pd.read_csv(filename)\n",
    "X=credit[['Income','Limit','Rating','Cards','Age','Education']]"
   ]
  },
  {
   "cell_type": "code",
   "execution_count": 2,
   "metadata": {},
   "outputs": [
    {
     "data": {
      "text/html": [
       "<div>\n",
       "<style>\n",
       "    .dataframe thead tr:only-child th {\n",
       "        text-align: right;\n",
       "    }\n",
       "\n",
       "    .dataframe thead th {\n",
       "        text-align: left;\n",
       "    }\n",
       "\n",
       "    .dataframe tbody tr th {\n",
       "        vertical-align: top;\n",
       "    }\n",
       "</style>\n",
       "<table border=\"1\" class=\"dataframe\">\n",
       "  <thead>\n",
       "    <tr style=\"text-align: right;\">\n",
       "      <th></th>\n",
       "      <th>Income</th>\n",
       "      <th>Limit</th>\n",
       "      <th>Rating</th>\n",
       "      <th>Cards</th>\n",
       "      <th>Age</th>\n",
       "      <th>Education</th>\n",
       "    </tr>\n",
       "  </thead>\n",
       "  <tbody>\n",
       "    <tr>\n",
       "      <th>0</th>\n",
       "      <td>14.891</td>\n",
       "      <td>3606</td>\n",
       "      <td>283</td>\n",
       "      <td>2</td>\n",
       "      <td>34</td>\n",
       "      <td>11</td>\n",
       "    </tr>\n",
       "    <tr>\n",
       "      <th>1</th>\n",
       "      <td>106.025</td>\n",
       "      <td>6645</td>\n",
       "      <td>483</td>\n",
       "      <td>3</td>\n",
       "      <td>82</td>\n",
       "      <td>15</td>\n",
       "    </tr>\n",
       "    <tr>\n",
       "      <th>2</th>\n",
       "      <td>104.593</td>\n",
       "      <td>7075</td>\n",
       "      <td>514</td>\n",
       "      <td>4</td>\n",
       "      <td>71</td>\n",
       "      <td>11</td>\n",
       "    </tr>\n",
       "    <tr>\n",
       "      <th>3</th>\n",
       "      <td>148.924</td>\n",
       "      <td>9504</td>\n",
       "      <td>681</td>\n",
       "      <td>3</td>\n",
       "      <td>36</td>\n",
       "      <td>11</td>\n",
       "    </tr>\n",
       "    <tr>\n",
       "      <th>4</th>\n",
       "      <td>55.882</td>\n",
       "      <td>4897</td>\n",
       "      <td>357</td>\n",
       "      <td>2</td>\n",
       "      <td>68</td>\n",
       "      <td>16</td>\n",
       "    </tr>\n",
       "  </tbody>\n",
       "</table>\n",
       "</div>"
      ],
      "text/plain": [
       "    Income  Limit  Rating  Cards  Age  Education\n",
       "0   14.891   3606     283      2   34         11\n",
       "1  106.025   6645     483      3   82         15\n",
       "2  104.593   7075     514      4   71         11\n",
       "3  148.924   9504     681      3   36         11\n",
       "4   55.882   4897     357      2   68         16"
      ]
     },
     "execution_count": 2,
     "metadata": {},
     "output_type": "execute_result"
    }
   ],
   "source": [
    "X.head()"
   ]
  },
  {
   "cell_type": "code",
   "execution_count": 3,
   "metadata": {
    "collapsed": true
   },
   "outputs": [],
   "source": [
    "import numpy as np\n",
    "y=np.zeros((400))\n",
    "y[credit['Balance']>1500]=1"
   ]
  },
  {
   "cell_type": "code",
   "execution_count": 4,
   "metadata": {
    "collapsed": true
   },
   "outputs": [],
   "source": [
    "from sklearn.linear_model import LogisticRegression\n",
    "from sklearn.discriminant_analysis import LinearDiscriminantAnalysis\n",
    "from sklearn.discriminant_analysis import QuadraticDiscriminantAnalysis\n",
    "from sklearn.metrics import confusion_matrix"
   ]
  },
  {
   "cell_type": "code",
   "execution_count": 5,
   "metadata": {},
   "outputs": [
    {
     "name": "stdout",
     "output_type": "stream",
     "text": [
      "[[390   1]\n",
      " [  6   3]]\n"
     ]
    }
   ],
   "source": [
    "lr=LogisticRegression()\n",
    "lr.fit(X,y)\n",
    "y_pred = lr.predict(X)\n",
    "print(confusion_matrix(y, y_pred))"
   ]
  },
  {
   "cell_type": "markdown",
   "metadata": {},
   "source": [
    "Comment:Ture negatives 390, false negatives 1, false postives 6, ture positives 3, Logistic Regression has a good performace for dominanat class. The accuracy: 393/400, the recall rate:3/9. This model doesn't satisfy if the inferior class(Balance_1500) is significant. As Losistic Regression models the log-odds rate of data alpha with a linear model(w0+w1*x1+..+Wm*Xm), alpha=w0+w1*x1+..+Wm*Xm, it pay less attention to the inferior class."
   ]
  },
  {
   "cell_type": "code",
   "execution_count": 6,
   "metadata": {},
   "outputs": [
    {
     "name": "stdout",
     "output_type": "stream",
     "text": [
      "[[383   8]\n",
      " [  4   5]]\n"
     ]
    }
   ],
   "source": [
    "lda=LinearDiscriminantAnalysis()\n",
    "lda.fit(X,y)\n",
    "y_pred = lda.predict(X)\n",
    "print(confusion_matrix(y, y_pred))"
   ]
  },
  {
   "cell_type": "markdown",
   "metadata": {},
   "source": [
    "Comment: LDA has better performace in inferior class than logistic regression,with recall rate:5/9.  LDA also has a good performance in dominant class(balance<=1500), the total accuracy is 388/400. It seems that LDA pay more atten to inferior class than Logistic Regression. This is possible as LDA is a generative model which estimates p(x|y) for each class(two classes here), then caculates p(y|x) by Bayes rules. Thus LDA is possible to reach a better performance in inferior class than Logistic Regression."
   ]
  },
  {
   "cell_type": "code",
   "execution_count": 7,
   "metadata": {},
   "outputs": [
    {
     "data": {
      "text/plain": [
       "array([[390,   1],\n",
       "       [  2,   7]], dtype=int64)"
      ]
     },
     "execution_count": 7,
     "metadata": {},
     "output_type": "execute_result"
    }
   ],
   "source": [
    "qda=QuadraticDiscriminantAnalysis()\n",
    "qda.fit(X,y)\n",
    "y_pred = qda.predict(X)\n",
    "confusion_matrix(y, y_pred)"
   ]
  },
  {
   "cell_type": "markdown",
   "metadata": {},
   "source": [
    "Comment: QDA has excellent performace for both superior and inferior classes.The total accuracy is 397/400, and the recall rate is 7/9. \n",
    "QDA is also a generative model, but without the strong assumption that two classes share the same covariance maxtrix as LDA does. As a result,\n",
    "QDA has more parameters to estimate and neeeds more computational resources, but it is more flexible with quadratic decision boundary, thus is able to abtain a beeter performance than LDA."
   ]
  },
  {
   "cell_type": "code",
   "execution_count": 8,
   "metadata": {
    "collapsed": true
   },
   "outputs": [],
   "source": [
    "x1=np.array([63,8100,600,4,30,14]).reshape(1,6)\n",
    "x2=np.array([186,13414,950,2,41,13]).reshape(1,6)"
   ]
  },
  {
   "cell_type": "code",
   "execution_count": 9,
   "metadata": {},
   "outputs": [
    {
     "name": "stdout",
     "output_type": "stream",
     "text": [
      "[[ 0.93227393  0.06772607]]\n",
      "[[ 0.1729211  0.8270789]]\n",
      "[ 0.]\n",
      "[ 1.]\n"
     ]
    }
   ],
   "source": [
    "print(lr.predict_proba(x1))\n",
    "print(lr.predict_proba(x2))\n",
    "print(lr.predict(x1))\n",
    "print(lr.predict(x2))"
   ]
  },
  {
   "cell_type": "markdown",
   "metadata": {},
   "source": [
    "The probability of Balance>1500 for x1 and x2 are 0.06772607 and 0.8270789,respectively. And the balace is subject to 0 for x1, and 1 for x2.  "
   ]
  },
  {
   "cell_type": "code",
   "execution_count": 10,
   "metadata": {},
   "outputs": [
    {
     "name": "stdout",
     "output_type": "stream",
     "text": [
      "0.058554280954\n",
      "0.992788010925\n"
     ]
    }
   ],
   "source": [
    "print(lda.predict_proba(x1)[0][1])\n",
    "print(lda.predict_proba(x2)[0][1])"
   ]
  },
  {
   "cell_type": "code",
   "execution_count": 11,
   "metadata": {},
   "outputs": [
    {
     "name": "stdout",
     "output_type": "stream",
     "text": [
      "1.24419206611e-09\n",
      "0.999216942248\n"
     ]
    }
   ],
   "source": [
    "print(qda.predict_proba(x1)[0][1])\n",
    "print(qda.predict_proba(x2)[0][1])"
   ]
  },
  {
   "cell_type": "markdown",
   "metadata": {},
   "source": [
    "As shown above, the results of classfication for x1 and x2 are identical in three models. x1 belongs to class 0, and x2 is  class 1.But the probabilty of Balance>1500 are different. As analysed before, QDA has highest accuracy in prediction for the calss 1(balance>1500), followed by LDA,then LR. \n",
    "Here,the probability of Balance>1500 for x2 is also QDA>LDA>LR>0.5. QDA also has a larger probability of Balance<=1500 for x1. "
   ]
  },
  {
   "cell_type": "code",
   "execution_count": 25,
   "metadata": {
    "collapsed": true
   },
   "outputs": [],
   "source": [
    "credit['Balance_b'] =y"
   ]
  },
  {
   "cell_type": "code",
   "execution_count": 26,
   "metadata": {},
   "outputs": [
    {
     "data": {
      "text/html": [
       "<div>\n",
       "<style>\n",
       "    .dataframe thead tr:only-child th {\n",
       "        text-align: right;\n",
       "    }\n",
       "\n",
       "    .dataframe thead th {\n",
       "        text-align: left;\n",
       "    }\n",
       "\n",
       "    .dataframe tbody tr th {\n",
       "        vertical-align: top;\n",
       "    }\n",
       "</style>\n",
       "<table border=\"1\" class=\"dataframe\">\n",
       "  <thead>\n",
       "    <tr style=\"text-align: right;\">\n",
       "      <th></th>\n",
       "      <th>Unnamed: 0</th>\n",
       "      <th>Income</th>\n",
       "      <th>Limit</th>\n",
       "      <th>Rating</th>\n",
       "      <th>Cards</th>\n",
       "      <th>Age</th>\n",
       "      <th>Education</th>\n",
       "      <th>Gender</th>\n",
       "      <th>Student</th>\n",
       "      <th>Married</th>\n",
       "      <th>Ethnicity</th>\n",
       "      <th>Balance</th>\n",
       "      <th>Balance_b</th>\n",
       "    </tr>\n",
       "  </thead>\n",
       "  <tbody>\n",
       "    <tr>\n",
       "      <th>0</th>\n",
       "      <td>1</td>\n",
       "      <td>14.891</td>\n",
       "      <td>3606</td>\n",
       "      <td>283</td>\n",
       "      <td>2</td>\n",
       "      <td>34</td>\n",
       "      <td>11</td>\n",
       "      <td>Male</td>\n",
       "      <td>No</td>\n",
       "      <td>Yes</td>\n",
       "      <td>Caucasian</td>\n",
       "      <td>333</td>\n",
       "      <td>0.0</td>\n",
       "    </tr>\n",
       "    <tr>\n",
       "      <th>1</th>\n",
       "      <td>2</td>\n",
       "      <td>106.025</td>\n",
       "      <td>6645</td>\n",
       "      <td>483</td>\n",
       "      <td>3</td>\n",
       "      <td>82</td>\n",
       "      <td>15</td>\n",
       "      <td>Female</td>\n",
       "      <td>Yes</td>\n",
       "      <td>Yes</td>\n",
       "      <td>Asian</td>\n",
       "      <td>903</td>\n",
       "      <td>0.0</td>\n",
       "    </tr>\n",
       "    <tr>\n",
       "      <th>2</th>\n",
       "      <td>3</td>\n",
       "      <td>104.593</td>\n",
       "      <td>7075</td>\n",
       "      <td>514</td>\n",
       "      <td>4</td>\n",
       "      <td>71</td>\n",
       "      <td>11</td>\n",
       "      <td>Male</td>\n",
       "      <td>No</td>\n",
       "      <td>No</td>\n",
       "      <td>Asian</td>\n",
       "      <td>580</td>\n",
       "      <td>0.0</td>\n",
       "    </tr>\n",
       "    <tr>\n",
       "      <th>3</th>\n",
       "      <td>4</td>\n",
       "      <td>148.924</td>\n",
       "      <td>9504</td>\n",
       "      <td>681</td>\n",
       "      <td>3</td>\n",
       "      <td>36</td>\n",
       "      <td>11</td>\n",
       "      <td>Female</td>\n",
       "      <td>No</td>\n",
       "      <td>No</td>\n",
       "      <td>Asian</td>\n",
       "      <td>964</td>\n",
       "      <td>0.0</td>\n",
       "    </tr>\n",
       "    <tr>\n",
       "      <th>4</th>\n",
       "      <td>5</td>\n",
       "      <td>55.882</td>\n",
       "      <td>4897</td>\n",
       "      <td>357</td>\n",
       "      <td>2</td>\n",
       "      <td>68</td>\n",
       "      <td>16</td>\n",
       "      <td>Male</td>\n",
       "      <td>No</td>\n",
       "      <td>Yes</td>\n",
       "      <td>Caucasian</td>\n",
       "      <td>331</td>\n",
       "      <td>0.0</td>\n",
       "    </tr>\n",
       "  </tbody>\n",
       "</table>\n",
       "</div>"
      ],
      "text/plain": [
       "   Unnamed: 0   Income  Limit  Rating  Cards  Age  Education  Gender Student  \\\n",
       "0           1   14.891   3606     283      2   34         11    Male      No   \n",
       "1           2  106.025   6645     483      3   82         15  Female     Yes   \n",
       "2           3  104.593   7075     514      4   71         11    Male      No   \n",
       "3           4  148.924   9504     681      3   36         11  Female      No   \n",
       "4           5   55.882   4897     357      2   68         16    Male      No   \n",
       "\n",
       "  Married  Ethnicity  Balance  Balance_b  \n",
       "0     Yes  Caucasian      333        0.0  \n",
       "1     Yes      Asian      903        0.0  \n",
       "2      No      Asian      580        0.0  \n",
       "3      No      Asian      964        0.0  \n",
       "4     Yes  Caucasian      331        0.0  "
      ]
     },
     "execution_count": 26,
     "metadata": {},
     "output_type": "execute_result"
    }
   ],
   "source": [
    "credit.head()"
   ]
  },
  {
   "cell_type": "code",
   "execution_count": 28,
   "metadata": {},
   "outputs": [
    {
     "name": "stdout",
     "output_type": "stream",
     "text": [
      "Optimization terminated successfully.\n",
      "         Current function value: 0.040712\n",
      "         Iterations 11\n"
     ]
    },
    {
     "data": {
      "text/html": [
       "<table class=\"simpletable\">\n",
       "<tr>\n",
       "        <td>Model:</td>              <td>Logit</td>       <td>No. Iterations:</td>  <td>11.0000</td>\n",
       "</tr>\n",
       "<tr>\n",
       "  <td>Dependent Variable:</td>     <td>Balance_b</td>    <td>Pseudo R-squared:</td>  <td>0.622</td> \n",
       "</tr>\n",
       "<tr>\n",
       "         <td>Date:</td>        <td>2018-04-17 14:17</td>       <td>AIC:</td>        <td>46.5694</td>\n",
       "</tr>\n",
       "<tr>\n",
       "   <td>No. Observations:</td>         <td>400</td>             <td>BIC:</td>        <td>74.5096</td>\n",
       "</tr>\n",
       "<tr>\n",
       "       <td>Df Model:</td>              <td>6</td>         <td>Log-Likelihood:</td>  <td>-16.285</td>\n",
       "</tr>\n",
       "<tr>\n",
       "     <td>Df Residuals:</td>           <td>393</td>           <td>LL-Null:</td>      <td>-43.046</td>\n",
       "</tr>\n",
       "<tr>\n",
       "      <td>Converged:</td>           <td>1.0000</td>           <td>Scale:</td>       <td>1.0000</td> \n",
       "</tr>\n",
       "</table>\n",
       "<table class=\"simpletable\">\n",
       "<tr>\n",
       "      <td></td>        <th>Coef.</th>  <th>Std.Err.</th>    <th>z</th>     <th>P>|z|</th>  <th>[0.025</th>  <th>0.975]</th> \n",
       "</tr>\n",
       "<tr>\n",
       "  <th>Intercept</th> <td>-16.8495</td>  <td>6.0477</td>  <td>-2.7861</td> <td>0.0053</td> <td>-28.7028</td> <td>-4.9962</td>\n",
       "</tr>\n",
       "<tr>\n",
       "  <th>Income</th>     <td>-0.0840</td>  <td>0.0411</td>  <td>-2.0431</td> <td>0.0410</td>  <td>-0.1646</td> <td>-0.0034</td>\n",
       "</tr>\n",
       "<tr>\n",
       "  <th>Limit</th>      <td>0.0019</td>   <td>0.0036</td>  <td>0.5204</td>  <td>0.6028</td>  <td>-0.0051</td> <td>0.0089</td> \n",
       "</tr>\n",
       "<tr>\n",
       "  <th>Rating</th>     <td>0.0125</td>   <td>0.0526</td>  <td>0.2384</td>  <td>0.8116</td>  <td>-0.0906</td> <td>0.1156</td> \n",
       "</tr>\n",
       "<tr>\n",
       "  <th>Cards</th>      <td>0.1227</td>   <td>0.4161</td>  <td>0.2948</td>  <td>0.7682</td>  <td>-0.6929</td> <td>0.9382</td> \n",
       "</tr>\n",
       "<tr>\n",
       "  <th>Age</th>        <td>-0.0204</td>  <td>0.0313</td>  <td>-0.6536</td> <td>0.5133</td>  <td>-0.0817</td> <td>0.0408</td> \n",
       "</tr>\n",
       "<tr>\n",
       "  <th>Education</th>  <td>-0.0747</td>  <td>0.1420</td>  <td>-0.5263</td> <td>0.5987</td>  <td>-0.3531</td> <td>0.2036</td> \n",
       "</tr>\n",
       "</table>"
      ],
      "text/plain": [
       "<class 'statsmodels.iolib.summary2.Summary'>\n",
       "\"\"\"\n",
       "                        Results: Logit\n",
       "==============================================================\n",
       "Model:              Logit            No. Iterations:   11.0000\n",
       "Dependent Variable: Balance_b        Pseudo R-squared: 0.622  \n",
       "Date:               2018-04-17 14:17 AIC:              46.5694\n",
       "No. Observations:   400              BIC:              74.5096\n",
       "Df Model:           6                Log-Likelihood:   -16.285\n",
       "Df Residuals:       393              LL-Null:          -43.046\n",
       "Converged:          1.0000           Scale:            1.0000 \n",
       "--------------------------------------------------------------\n",
       "              Coef.   Std.Err.    z    P>|z|   [0.025   0.975]\n",
       "--------------------------------------------------------------\n",
       "Intercept    -16.8495   6.0477 -2.7861 0.0053 -28.7028 -4.9962\n",
       "Income        -0.0840   0.0411 -2.0431 0.0410  -0.1646 -0.0034\n",
       "Limit          0.0019   0.0036  0.5204 0.6028  -0.0051  0.0089\n",
       "Rating         0.0125   0.0526  0.2384 0.8116  -0.0906  0.1156\n",
       "Cards          0.1227   0.4161  0.2948 0.7682  -0.6929  0.9382\n",
       "Age           -0.0204   0.0313 -0.6536 0.5133  -0.0817  0.0408\n",
       "Education     -0.0747   0.1420 -0.5263 0.5987  -0.3531  0.2036\n",
       "==============================================================\n",
       "\n",
       "\"\"\""
      ]
     },
     "execution_count": 28,
     "metadata": {},
     "output_type": "execute_result"
    }
   ],
   "source": [
    "import statsmodels.formula.api as smf\n",
    "lr2=smf.Logit.from_formula(formula='Balance_b~Income+Limit+Rating+Cards+Age+Education', data=credit).fit()\n",
    "lr2.summary2()"
   ]
  },
  {
   "cell_type": "markdown",
   "metadata": {},
   "source": [
    "Fit logistic regression with statsmodels, the result shows that income is the msot significant variable(|Z|>2,P<0.05) for the category of Balance when setting 'Balance>1500' as the boundary of two classes ."
   ]
  },
  {
   "cell_type": "code",
   "execution_count": null,
   "metadata": {
    "collapsed": true
   },
   "outputs": [],
   "source": []
  }
 ],
 "metadata": {
  "kernelspec": {
   "display_name": "Python 3",
   "language": "python",
   "name": "python3"
  },
  "language_info": {
   "codemirror_mode": {
    "name": "ipython",
    "version": 3
   },
   "file_extension": ".py",
   "mimetype": "text/x-python",
   "name": "python",
   "nbconvert_exporter": "python",
   "pygments_lexer": "ipython3",
   "version": "3.6.3"
  }
 },
 "nbformat": 4,
 "nbformat_minor": 2
}
