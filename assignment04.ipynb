{
 "cells": [
  {
   "cell_type": "markdown",
   "metadata": {},
   "source": [
    "# Assignment 4\n",
    "- Donwload  ziptrain.csv and ziptest.csv datasets from  https://github.com/vahidpartovinia/ycbs255/\n",
    "\n",
    "# Digit learning challenge\n",
    "- Use the methods taught in the course, or a good combination of the methods taught in the course to predict all 10 digits of the zipcode data. Only use ziptrain.csv data to build your model, and evaluate the accuracy of your model on ziptest.csv \n",
    "\n",
    "- Your codes must be reproducible. We may run your codes on ziptrain.csv data on our own machine. \n",
    "\n",
    "# Submission note\n",
    "Please fill this jupyter notebook. Extract the pdf file as follows. On  Jupyter manue go to File/Print Preview, then on Browser menu go to File/Print. \n",
    "\n",
    "## Only PDF  Submissions will be graded\n"
   ]
  },
  {
   "cell_type": "code",
   "execution_count": 1,
   "metadata": {
    "collapsed": true
   },
   "outputs": [],
   "source": [
    "import numpy as np\n",
    "import matplotlib.pyplot as plt \n",
    "%matplotlib inline \n",
    "\n",
    "# load training and test data\n",
    "path='data/'\n",
    "filename1=path+'ziptrain.csv'\n",
    "zipdata=np.loadtxt(filename1)\n",
    "\n",
    "filename2=path+'ziptest.csv'\n",
    "ziptest=np.loadtxt(filename2)\n",
    "\n",
    "X_train=zipdata[:,1:]\n",
    "y_train=zipdata[:,0]\n",
    "X_test=ziptest[:,1:]\n",
    "y_test=ziptest[:,0]"
   ]
  },
  {
   "cell_type": "markdown",
   "metadata": {
    "collapsed": true
   },
   "source": [
    "## 1.1 Random Forest"
   ]
  },
  {
   "cell_type": "code",
   "execution_count": 2,
   "metadata": {},
   "outputs": [
    {
     "data": {
      "text/plain": [
       "0.96750473199816089"
      ]
     },
     "execution_count": 2,
     "metadata": {},
     "output_type": "execute_result"
    }
   ],
   "source": [
    "from sklearn.ensemble import RandomForestClassifier\n",
    "from sklearn.model_selection import cross_val_score\n",
    "from sklearn.metrics import accuracy_score\n",
    "\n",
    "rf=RandomForestClassifier(n_estimators=100,random_state=1)\n",
    "cross_val_score(rf,X_train,y_train,cv=10).mean()"
   ]
  },
  {
   "cell_type": "code",
   "execution_count": 3,
   "metadata": {},
   "outputs": [
    {
     "data": {
      "text/plain": [
       "0.94020926756352763"
      ]
     },
     "execution_count": 3,
     "metadata": {},
     "output_type": "execute_result"
    }
   ],
   "source": [
    "rf.fit(X_train,y_train)\n",
    "y_pred=rf.predict(X_test)\n",
    "score=accuracy_score(y_test,y_pred)\n",
    "score"
   ]
  },
  {
   "cell_type": "markdown",
   "metadata": {},
   "source": [
    "## 1.2 SVM"
   ]
  },
  {
   "cell_type": "code",
   "execution_count": 4,
   "metadata": {},
   "outputs": [
    {
     "data": {
      "text/plain": [
       "0.97299441552267363"
      ]
     },
     "execution_count": 4,
     "metadata": {},
     "output_type": "execute_result"
    }
   ],
   "source": [
    "from sklearn.svm import SVC\n",
    "svm=SVC(random_state=21)\n",
    "cross_val_score(svm,X_train,y_train,cv=10).mean()"
   ]
  },
  {
   "cell_type": "code",
   "execution_count": 5,
   "metadata": {},
   "outputs": [
    {
     "data": {
      "text/plain": [
       "0.9422022919780767"
      ]
     },
     "execution_count": 5,
     "metadata": {},
     "output_type": "execute_result"
    }
   ],
   "source": [
    "svm.fit(X_train,y_train)\n",
    "y_pred=svm.predict(X_test)\n",
    "score=accuracy_score(y_test,y_pred)\n",
    "score"
   ]
  },
  {
   "cell_type": "markdown",
   "metadata": {},
   "source": [
    "## 1.3 MLPClassifier"
   ]
  },
  {
   "cell_type": "code",
   "execution_count": 6,
   "metadata": {},
   "outputs": [
    {
     "data": {
      "text/plain": [
       "0.97175027193232122"
      ]
     },
     "execution_count": 6,
     "metadata": {},
     "output_type": "execute_result"
    }
   ],
   "source": [
    "from sklearn.neural_network import MLPClassifier\n",
    "mlpc=MLPClassifier(random_state=4)\n",
    "cross_val_score(mlpc,X_train,y_train,cv=10).mean()"
   ]
  },
  {
   "cell_type": "code",
   "execution_count": 7,
   "metadata": {},
   "outputs": [
    {
     "data": {
      "text/plain": [
       "0.94120577977080222"
      ]
     },
     "execution_count": 7,
     "metadata": {},
     "output_type": "execute_result"
    }
   ],
   "source": [
    "mlpc.fit(X_train,y_train)\n",
    "y_pred=mlpc.predict(X_test)\n",
    "score=accuracy_score(y_test,y_pred)\n",
    "score"
   ]
  },
  {
   "cell_type": "markdown",
   "metadata": {},
   "source": [
    "## 1.4 kNN"
   ]
  },
  {
   "cell_type": "code",
   "execution_count": 8,
   "metadata": {
    "collapsed": true
   },
   "outputs": [],
   "source": [
    "from sklearn.neighbors import KNeighborsClassifier\n",
    "Krange=np.arange(2,15)\n",
    "scores=np.zeros(13)\n",
    "for k in Krange:\n",
    "    knn = KNeighborsClassifier(n_neighbors=k)\n",
    "    scores[k-2]=cross_val_score(knn,X_train,y_train,cv=5).mean() "
   ]
  },
  {
   "cell_type": "code",
   "execution_count": 9,
   "metadata": {},
   "outputs": [
    {
     "data": {
      "text/plain": [
       "Text(0,0.5,'Accuracy')"
      ]
     },
     "execution_count": 9,
     "metadata": {},
     "output_type": "execute_result"
    },
    {
     "data": {
      "image/png": "[encoded data removed]",
      "text/plain": [
       "<Figure size 432x288 with 1 Axes>"
      ]
     },
     "metadata": {},
     "output_type": "display_data"
    }
   ],
   "source": [
    "plt.plot(np.arange(2,15),scores,'r-')\n",
    "plt.title('KNeighborsClassifier' )\n",
    "plt.xlabel('K numbers')\n",
    "plt.ylabel('Accuracy')"
   ]
  },
  {
   "cell_type": "markdown",
   "metadata": {},
   "source": [
    "When k=3, kNN has the best performance"
   ]
  },
  {
   "cell_type": "code",
   "execution_count": 10,
   "metadata": {},
   "outputs": [
    {
     "data": {
      "text/plain": [
       "0.94469357249626307"
      ]
     },
     "execution_count": 10,
     "metadata": {},
     "output_type": "execute_result"
    }
   ],
   "source": [
    "knn = KNeighborsClassifier(n_neighbors=3)\n",
    "knn.fit(X_train,y_train)\n",
    "y_pred=knn.predict(X_test)\n",
    "score=accuracy_score(y_test,y_pred)\n",
    "score"
   ]
  },
  {
   "cell_type": "markdown",
   "metadata": {
    "collapsed": true
   },
   "source": [
    "As shown above, the KNeighborsClassifier(k=3) tops the list of these basic classifiers with a test accuracy of 0.94469, followed by SVM (0.9422)。 MLPC comes the third 0.9412, and Random Forest is the last 0.9402."
   ]
  },
  {
   "cell_type": "markdown",
   "metadata": {
    "collapsed": true
   },
   "source": [
    "## 1.5 Residual Neural Network"
   ]
  },
  {
   "cell_type": "markdown",
   "metadata": {},
   "source": [
    "Residual Network is a deep network based on Convoulutional Neural Network. The residual learning framework eases the training of \n",
    "these networks,and enables them to be substantially deeper — leading to improved performance in both visual and non-visual tasks."
   ]
  },
  {
   "cell_type": "code",
   "execution_count": 9,
   "metadata": {
    "collapsed": true
   },
   "outputs": [],
   "source": [
    "import numpy as np\n",
    "import matplotlib.pyplot as plt\n",
    "%matplotlib inline\n",
    "import torch\n",
    "import torch.nn as nn\n",
    "from torch.autograd import Variable\n",
    "import torch.utils.data as Data\n",
    "from sklearn.model_selection import train_test_split\n",
    "from torchvision import transforms as tfs\n",
    "\n",
    "#Hyper Parameters\n",
    "EPOCH=80\n",
    "BATCH_SIZE=100\n",
    "LR=0.001\n",
    "Modelname='ResNet.pkl'"
   ]
  },
  {
   "cell_type": "code",
   "execution_count": 10,
   "metadata": {
    "collapsed": true
   },
   "outputs": [],
   "source": [
    "#construct ResNet\n",
    "class ResidualBlock(nn.Module):\n",
    "    def __init__(self,in_channels,out_channels,stride=1,downsample=None):\n",
    "        super(ResidualBlock,self).__init__()\n",
    "        self.res1=nn.Sequential(\n",
    "            nn.Conv2d(in_channels,out_channels,3,stride,1),\n",
    "            nn.BatchNorm2d(out_channels),\n",
    "            nn.ReLU(),\n",
    "            nn.Conv2d(out_channels, out_channels, 3, 1, 1),\n",
    "            nn.BatchNorm2d(out_channels),\n",
    "        )\n",
    "        self.relu=nn.ReLU(inplace=True)\n",
    "        self.downsample=downsample\n",
    "\n",
    "    def forward(self,x):\n",
    "        residual=x\n",
    "        out=self.res1(x)\n",
    "        if self.downsample:\n",
    "            residual=self.downsample(x)\n",
    "        out+=residual\n",
    "        out=self.relu(out)\n",
    "        return out\n",
    "\n",
    "# ResNet Module\n",
    "class ResNet(nn.Module):\n",
    "    def __init__(self,block,layers,num_classes=10):\n",
    "        super(ResNet, self).__init__()\n",
    "        self.conv1=nn.Sequential(\n",
    "            nn.Conv2d(1,20,5,1,2),\n",
    "            nn.BatchNorm2d(20),\n",
    "            nn.ReLU()\n",
    "        )\n",
    "        self.in_channels = 20\n",
    "        self.layer1=self.make_layer(block,20,blocks=layers[0])\n",
    "        self.layer2=self.make_layer(block,40,blocks=layers[1],stride=2)\n",
    "        self.layer3=self.make_layer(block,80,blocks=layers[2],stride=2)\n",
    "        self.avg_pool=nn.AvgPool2d(4)\n",
    "        self.fn=nn.Linear(80,num_classes)\n",
    "    def make_layer(self,block,out_channnels,blocks,stride=1):\n",
    "        downsample=None\n",
    "        if (stride != 1) or (self.in_channels != out_channnels):\n",
    "            downsample = nn.Sequential(\n",
    "                nn.Conv2d(self.in_channels,out_channnels,3,stride=stride,padding=1),\n",
    "                nn.BatchNorm2d(out_channnels)\n",
    "            )\n",
    "        layers=[]\n",
    "        layers.append(block(self.in_channels,out_channnels,stride=stride,downsample=downsample))\n",
    "        self.in_channels=out_channnels\n",
    "        for i in range(1,blocks):\n",
    "            layers.append(block(out_channnels,out_channnels))\n",
    "        return nn.Sequential(*layers)\n",
    "\n",
    "    def forward(self,x):\n",
    "        out=self.conv1(x)\n",
    "        out=self.layer1(out)\n",
    "        out=self.layer2(out)\n",
    "        out=self.layer3(out)\n",
    "        out=self.avg_pool(out)\n",
    "        out=out.view(out.size(0),-1)\n",
    "        out=self.fn(out)\n",
    "        return out\n",
    "\n",
    "res_layers=[4,10,4]\n",
    "resnet=ResNet(ResidualBlock,res_layers).cuda()       #GPU\n",
    "optimizer=torch.optim.Adam(resnet.parameters(),lr=LR)   #optimize all cnn parameters\n",
    "loss_func=nn.CrossEntropyLoss()"
   ]
  },
  {
   "cell_type": "code",
   "execution_count": 11,
   "metadata": {
    "collapsed": true
   },
   "outputs": [],
   "source": [
    "# data agumention\n",
    "transform = tfs.Compose([\n",
    "    tfs.ToPILImage(),\n",
    "    tfs.RandomRotation(180,expand=True),\n",
    "    tfs.RandomResizedCrop(16,scale=(0.8,1.2)),\n",
    "    tfs.RandomHorizontalFlip(),\n",
    "    tfs.ToTensor()]\n",
    ")"
   ]
  },
  {
   "cell_type": "code",
   "execution_count": 12,
   "metadata": {
    "collapsed": true
   },
   "outputs": [],
   "source": [
    "#loading data\n",
    "path='data/'\n",
    "filename1=path+'ziptrain.csv'\n",
    "zipdata=np.loadtxt(filename1)\n",
    "\n",
    "filename2=path+'ziptest.csv'\n",
    "ziptest=np.loadtxt(filename2)\n",
    "\n",
    "np.random.shuffle(zipdata)\n",
    "train_data, valid_data= train_test_split(zipdata, test_size=0.1,random_state=4)\n",
    "valid_num = valid_data.shape[0]\n",
    "\n",
    "# transform training data from numpy to tensor, bundling\n",
    "train_x = train_data[:, 1:].reshape(-1, 16, 16)\n",
    "train_x = torch.from_numpy(train_x)  # transfo.type(torch.FloatTensor)rm to tensor from\n",
    "train_x = torch.unsqueeze(train_x, dim=1).type(torch.FloatTensor)\n",
    "train_num = train_x.shape[0]\n",
    "train_y = train_data[:, 0]\n",
    "train_y = torch.from_numpy(train_y).type(torch.LongTensor)\n",
    "dataset = Data.TensorDataset(train_x, train_y)\n",
    "\n",
    "# transform validation data from numpy to tensor\n",
    "valid_x = valid_data[:, 1:].reshape(-1, 16, 16)\n",
    "valid_x = torch.from_numpy(valid_x).type(torch.FloatTensor)  # transform to tensor from\n",
    "valid_x = Variable(torch.unsqueeze(valid_x, dim=1), volatile=True).cuda()\n",
    "\n",
    "valid_y = valid_data[:, 0]\n",
    "valid_y = torch.from_numpy(valid_y).type(torch.LongTensor).cuda()\n",
    "del train_data\n",
    "del valid_data"
   ]
  },
  {
   "cell_type": "code",
   "execution_count": 13,
   "metadata": {},
   "outputs": [
    {
     "name": "stderr",
     "output_type": "stream",
     "text": [
      "C:\\Users\\sjun1\\Anaconda3\\lib\\site-packages\\torch\\serialization.py:159: UserWarning: Couldn't retrieve source code for container of type ResNet. It won't be checked for correctness upon loading.\n",
      "  \"type \" + obj.__name__ + \". It won't be checked \"\n",
      "C:\\Users\\sjun1\\Anaconda3\\lib\\site-packages\\torch\\serialization.py:159: UserWarning: Couldn't retrieve source code for container of type ResidualBlock. It won't be checked for correctness upon loading.\n",
      "  \"type \" + obj.__name__ + \". It won't be checked \"\n"
     ]
    },
    {
     "name": "stdout",
     "output_type": "stream",
     "text": [
      "Epoch: 0 Step: 0 |train loss: 2.3024420738220215 |valid accuracy: 0.19041095890410958\n",
      "Epoch: 0 Step: 20 |train loss: 0.5931494235992432 |valid accuracy: 0.8794520547945206\n",
      "Epoch: 0 Step: 40 |train loss: 0.2817847430706024 |valid accuracy: 0.9671232876712329\n",
      "Epoch: 0 Step: 60 |train loss: 0.15861625969409943 |valid accuracy: 0.9657534246575342\n",
      "Epoch: 1 Step: 0 |train loss: 0.1522427797317505 |valid accuracy: 0.963013698630137\n",
      "Epoch: 1 Step: 20 |train loss: 0.08110488206148148 |valid accuracy: 0.9698630136986301\n",
      "Epoch: 1 Step: 40 |train loss: 0.26341521739959717 |valid accuracy: 0.9780821917808219\n",
      "Epoch: 1 Step: 60 |train loss: 0.022509107366204262 |valid accuracy: 0.9767123287671233\n",
      "Epoch: 2 Step: 0 |train loss: 0.06494288891553879 |valid accuracy: 0.9849315068493151\n",
      "Epoch: 2 Step: 20 |train loss: 0.018535947427153587 |valid accuracy: 0.9835616438356164\n",
      "Epoch: 2 Step: 40 |train loss: 0.059712883085012436 |valid accuracy: 0.9726027397260274\n",
      "Epoch: 2 Step: 60 |train loss: 0.08098568022251129 |valid accuracy: 0.9739726027397261\n",
      "Epoch: 3 Step: 0 |train loss: 0.05178532004356384 |valid accuracy: 0.9835616438356164\n",
      "Epoch: 3 Step: 20 |train loss: 0.06868288666009903 |valid accuracy: 0.9780821917808219\n",
      "Epoch: 3 Step: 40 |train loss: 0.022340603172779083 |valid accuracy: 0.989041095890411\n",
      "Epoch: 3 Step: 60 |train loss: 0.04305468499660492 |valid accuracy: 0.9794520547945206\n",
      "Epoch: 4 Step: 0 |train loss: 0.02999141626060009 |valid accuracy: 0.9835616438356164\n",
      "Epoch: 4 Step: 20 |train loss: 0.0423741340637207 |valid accuracy: 0.9849315068493151\n",
      "Epoch: 4 Step: 40 |train loss: 0.008000962436199188 |valid accuracy: 0.989041095890411\n",
      "Epoch: 4 Step: 60 |train loss: 0.027884967625141144 |valid accuracy: 0.9835616438356164\n",
      "Epoch: 5 Step: 0 |train loss: 0.019188353791832924 |valid accuracy: 0.9767123287671233\n",
      "Epoch: 5 Step: 20 |train loss: 0.053611502051353455 |valid accuracy: 0.9808219178082191\n",
      "Epoch: 5 Step: 40 |train loss: 0.04455329850316048 |valid accuracy: 0.9863013698630136\n",
      "Epoch: 5 Step: 60 |train loss: 0.034173741936683655 |valid accuracy: 0.9876712328767123\n",
      "Epoch: 6 Step: 0 |train loss: 0.019854599609971046 |valid accuracy: 0.9849315068493151\n",
      "Epoch: 6 Step: 20 |train loss: 0.024081818759441376 |valid accuracy: 0.9876712328767123\n",
      "Epoch: 6 Step: 40 |train loss: 0.030431881546974182 |valid accuracy: 0.9863013698630136\n",
      "Epoch: 6 Step: 60 |train loss: 0.01948910765349865 |valid accuracy: 0.9726027397260274\n",
      "Epoch: 7 Step: 0 |train loss: 0.06822514533996582 |valid accuracy: 0.9835616438356164\n",
      "Epoch: 7 Step: 20 |train loss: 0.023090658709406853 |valid accuracy: 0.9904109589041096\n",
      "Epoch: 7 Step: 40 |train loss: 0.01023870985955 |valid accuracy: 0.9863013698630136\n",
      "Epoch: 7 Step: 60 |train loss: 0.022257084026932716 |valid accuracy: 0.989041095890411\n",
      "Epoch: 8 Step: 0 |train loss: 0.0027123140171170235 |valid accuracy: 0.9876712328767123\n",
      "Epoch: 8 Step: 20 |train loss: 0.004308297764509916 |valid accuracy: 0.989041095890411\n",
      "Epoch: 8 Step: 40 |train loss: 0.011761932633817196 |valid accuracy: 0.9794520547945206\n",
      "Epoch: 8 Step: 60 |train loss: 0.0432300791144371 |valid accuracy: 0.9849315068493151\n",
      "Epoch: 9 Step: 0 |train loss: 0.0066414810717105865 |valid accuracy: 0.9863013698630136\n",
      "Epoch: 9 Step: 20 |train loss: 0.00306591740809381 |valid accuracy: 0.9904109589041096\n",
      "Epoch: 9 Step: 40 |train loss: 0.015951354056596756 |valid accuracy: 0.9835616438356164\n",
      "Epoch: 9 Step: 60 |train loss: 0.025893695652484894 |valid accuracy: 0.9808219178082191\n",
      "Epoch: 10 Step: 0 |train loss: 0.018111899495124817 |valid accuracy: 0.9821917808219178\n",
      "Epoch: 10 Step: 20 |train loss: 0.019616451114416122 |valid accuracy: 0.9835616438356164\n",
      "Epoch: 10 Step: 40 |train loss: 0.00647640461102128 |valid accuracy: 0.9876712328767123\n",
      "Epoch: 10 Step: 60 |train loss: 0.0035202025901526213 |valid accuracy: 0.9917808219178083\n",
      "Epoch: 11 Step: 0 |train loss: 0.008547532372176647 |valid accuracy: 0.989041095890411\n",
      "Epoch: 11 Step: 20 |train loss: 0.004527850076556206 |valid accuracy: 0.989041095890411\n",
      "Epoch: 11 Step: 40 |train loss: 0.01001182571053505 |valid accuracy: 0.9835616438356164\n",
      "Epoch: 11 Step: 60 |train loss: 0.020211393013596535 |valid accuracy: 0.9945205479452055\n",
      "Epoch: 12 Step: 0 |train loss: 0.03522535040974617 |valid accuracy: 0.9931506849315068\n",
      "Epoch: 12 Step: 20 |train loss: 0.01600523665547371 |valid accuracy: 0.9917808219178083\n",
      "Epoch: 12 Step: 40 |train loss: 0.003977694548666477 |valid accuracy: 0.9863013698630136\n",
      "Epoch: 12 Step: 60 |train loss: 0.017104236409068108 |valid accuracy: 0.9780821917808219\n",
      "Epoch: 13 Step: 0 |train loss: 0.0009326601284556091 |valid accuracy: 0.9849315068493151\n",
      "Epoch: 13 Step: 20 |train loss: 0.007045569363981485 |valid accuracy: 0.9835616438356164\n",
      "Epoch: 13 Step: 40 |train loss: 0.05671146512031555 |valid accuracy: 0.9849315068493151\n",
      "Epoch: 13 Step: 60 |train loss: 0.03406009078025818 |valid accuracy: 0.9863013698630136\n",
      "Epoch: 14 Step: 0 |train loss: 0.01950879767537117 |valid accuracy: 0.9808219178082191\n",
      "Epoch: 14 Step: 20 |train loss: 0.015408976934850216 |valid accuracy: 0.9931506849315068\n",
      "Epoch: 14 Step: 40 |train loss: 0.0226439218968153 |valid accuracy: 0.9876712328767123\n",
      "Epoch: 14 Step: 60 |train loss: 0.0022551727015525103 |valid accuracy: 0.9904109589041096\n",
      "Epoch: 15 Step: 0 |train loss: 0.0058281635865569115 |valid accuracy: 0.989041095890411\n",
      "Epoch: 15 Step: 20 |train loss: 0.007542374078184366 |valid accuracy: 0.9863013698630136\n",
      "Epoch: 15 Step: 40 |train loss: 0.006205713842064142 |valid accuracy: 0.9876712328767123\n",
      "Epoch: 15 Step: 60 |train loss: 0.0011434268672019243 |valid accuracy: 0.9931506849315068\n",
      "Epoch: 16 Step: 0 |train loss: 0.0014137744437903166 |valid accuracy: 0.9945205479452055\n",
      "Epoch: 16 Step: 20 |train loss: 0.009105639532208443 |valid accuracy: 0.9958904109589041\n",
      "Epoch: 16 Step: 40 |train loss: 0.0008443546248599887 |valid accuracy: 0.9945205479452055\n",
      "Epoch: 16 Step: 60 |train loss: 0.0018645715899765491 |valid accuracy: 0.9931506849315068\n",
      "Epoch: 17 Step: 0 |train loss: 0.0007070016581565142 |valid accuracy: 0.9917808219178083\n",
      "Epoch: 17 Step: 20 |train loss: 0.0005290841800160706 |valid accuracy: 0.9945205479452055\n",
      "Epoch: 17 Step: 40 |train loss: 0.00039695261511951685 |valid accuracy: 0.9958904109589041\n",
      "Epoch: 17 Step: 60 |train loss: 0.0005237627192400396 |valid accuracy: 0.9931506849315068\n",
      "Epoch: 18 Step: 0 |train loss: 0.0010599184315651655 |valid accuracy: 0.9931506849315068\n",
      "Epoch: 18 Step: 20 |train loss: 0.0021653366275131702 |valid accuracy: 0.9958904109589041\n",
      "Epoch: 18 Step: 40 |train loss: 0.0008343314984813333 |valid accuracy: 0.9945205479452055\n",
      "Epoch: 18 Step: 60 |train loss: 0.00046045304043218493 |valid accuracy: 0.9917808219178083\n",
      "Epoch: 19 Step: 0 |train loss: 0.00047855853335931897 |valid accuracy: 0.9931506849315068\n",
      "Epoch: 19 Step: 20 |train loss: 0.0006164360092952847 |valid accuracy: 0.9931506849315068\n",
      "Epoch: 19 Step: 40 |train loss: 0.0007867717649787664 |valid accuracy: 0.9917808219178083\n",
      "Epoch: 19 Step: 60 |train loss: 0.0003612041473388672 |valid accuracy: 0.9904109589041096\n",
      "Epoch: 20 Step: 0 |train loss: 0.0003804922162089497 |valid accuracy: 0.9917808219178083\n",
      "Epoch: 20 Step: 20 |train loss: 0.0003170823911204934 |valid accuracy: 0.9958904109589041\n",
      "Epoch: 20 Step: 40 |train loss: 0.0009343480924144387 |valid accuracy: 0.9945205479452055\n",
      "Epoch: 20 Step: 60 |train loss: 0.000289998046355322 |valid accuracy: 0.9931506849315068\n",
      "Epoch: 21 Step: 0 |train loss: 0.036787327378988266 |valid accuracy: 0.9931506849315068\n",
      "Epoch: 21 Step: 20 |train loss: 0.0003308153245598078 |valid accuracy: 0.9931506849315068\n",
      "Epoch: 21 Step: 40 |train loss: 0.0002252721751574427 |valid accuracy: 0.9945205479452055\n",
      "Epoch: 21 Step: 60 |train loss: 0.0001821994810597971 |valid accuracy: 0.9945205479452055\n",
      "Epoch: 22 Step: 0 |train loss: 0.00012087821960449219 |valid accuracy: 0.9945205479452055\n",
      "Epoch: 22 Step: 20 |train loss: 0.0001903533993754536 |valid accuracy: 0.9945205479452055\n",
      "Epoch: 22 Step: 40 |train loss: 0.00025392533279955387 |valid accuracy: 0.9945205479452055\n",
      "Epoch: 22 Step: 60 |train loss: 0.0001389312674291432 |valid accuracy: 0.9958904109589041\n",
      "Epoch: 23 Step: 0 |train loss: 0.0001256084506167099 |valid accuracy: 0.9958904109589041\n"
     ]
    },
    {
     "name": "stdout",
     "output_type": "stream",
     "text": [
      "Epoch: 23 Step: 20 |train loss: 0.00010369301162427291 |valid accuracy: 0.9958904109589041\n",
      "Epoch: 23 Step: 40 |train loss: 0.0001947545970324427 |valid accuracy: 0.9958904109589041\n",
      "Epoch: 23 Step: 60 |train loss: 0.00014189719513524324 |valid accuracy: 0.9945205479452055\n",
      "Epoch: 24 Step: 0 |train loss: 0.0002992725349031389 |valid accuracy: 0.9931506849315068\n",
      "Epoch: 24 Step: 20 |train loss: 0.00029587268363684416 |valid accuracy: 0.9972602739726028\n",
      "Epoch: 24 Step: 40 |train loss: 0.0007219553226605058 |valid accuracy: 0.9972602739726028\n",
      "Epoch: 24 Step: 60 |train loss: 0.0001964616822078824 |valid accuracy: 0.9972602739726028\n",
      "Epoch: 25 Step: 0 |train loss: 0.0003273439360782504 |valid accuracy: 0.9972602739726028\n",
      "Epoch: 25 Step: 20 |train loss: 0.0003471803793217987 |valid accuracy: 0.9986301369863013\n",
      "Epoch: 25 Step: 40 |train loss: 0.0011081122793257236 |valid accuracy: 0.9986301369863013\n",
      "Epoch: 25 Step: 60 |train loss: 0.00024958132416941226 |valid accuracy: 0.9986301369863013\n",
      "Epoch: 26 Step: 0 |train loss: 0.0002788495912682265 |valid accuracy: 0.9986301369863013\n",
      "Epoch: 26 Step: 20 |train loss: 0.00010162830585613847 |valid accuracy: 0.9986301369863013\n",
      "Epoch: 26 Step: 40 |train loss: 0.0001418399770045653 |valid accuracy: 0.9986301369863013\n",
      "Epoch: 26 Step: 60 |train loss: 0.00014755726442672312 |valid accuracy: 0.9972602739726028\n",
      "Epoch: 27 Step: 0 |train loss: 0.0001036977773765102 |valid accuracy: 0.9972602739726028\n",
      "Epoch: 27 Step: 20 |train loss: 0.000420637137722224 |valid accuracy: 0.9958904109589041\n",
      "Epoch: 27 Step: 40 |train loss: 0.0005117893451824784 |valid accuracy: 0.9972602739726028\n",
      "Epoch: 27 Step: 60 |train loss: 0.00015937328862491995 |valid accuracy: 0.9904109589041096\n",
      "Epoch: 28 Step: 0 |train loss: 0.048901062458753586 |valid accuracy: 0.9945205479452055\n",
      "Epoch: 28 Step: 20 |train loss: 0.012582826428115368 |valid accuracy: 0.9835616438356164\n",
      "Epoch: 28 Step: 40 |train loss: 0.02387130819261074 |valid accuracy: 0.9780821917808219\n",
      "Epoch: 28 Step: 60 |train loss: 0.008410424925386906 |valid accuracy: 0.9657534246575342\n",
      "Epoch: 29 Step: 0 |train loss: 0.04192645847797394 |valid accuracy: 0.9794520547945206\n",
      "Epoch: 29 Step: 20 |train loss: 0.023770036175847054 |valid accuracy: 0.9863013698630136\n",
      "Epoch: 29 Step: 40 |train loss: 0.06122608110308647 |valid accuracy: 0.9767123287671233\n",
      "Epoch: 29 Step: 60 |train loss: 0.010004344396293163 |valid accuracy: 0.9876712328767123\n",
      "Epoch: 30 Step: 0 |train loss: 0.0048993779346346855 |valid accuracy: 0.9863013698630136\n",
      "Epoch: 30 Step: 20 |train loss: 0.0011460351524874568 |valid accuracy: 0.989041095890411\n",
      "Epoch: 30 Step: 40 |train loss: 0.0034013031981885433 |valid accuracy: 0.9904109589041096\n",
      "Epoch: 30 Step: 60 |train loss: 0.008113260380923748 |valid accuracy: 0.9931506849315068\n",
      "Epoch: 31 Step: 0 |train loss: 0.0010149049339815974 |valid accuracy: 0.9945205479452055\n",
      "Epoch: 31 Step: 20 |train loss: 0.0007769537041895092 |valid accuracy: 0.9904109589041096\n",
      "Epoch: 31 Step: 40 |train loss: 0.010729813948273659 |valid accuracy: 0.9945205479452055\n",
      "Epoch: 31 Step: 60 |train loss: 0.0006807279423810542 |valid accuracy: 0.9945205479452055\n",
      "Epoch: 32 Step: 0 |train loss: 0.00852096825838089 |valid accuracy: 0.9945205479452055\n",
      "Epoch: 32 Step: 20 |train loss: 0.007644522003829479 |valid accuracy: 0.9904109589041096\n",
      "Epoch: 32 Step: 40 |train loss: 0.02717563323676586 |valid accuracy: 0.9931506849315068\n",
      "Epoch: 32 Step: 60 |train loss: 0.01919042505323887 |valid accuracy: 0.9917808219178083\n",
      "Epoch: 33 Step: 0 |train loss: 0.0004756450653076172 |valid accuracy: 0.9931506849315068\n",
      "Epoch: 33 Step: 20 |train loss: 0.0055320835672318935 |valid accuracy: 0.989041095890411\n",
      "Epoch: 33 Step: 40 |train loss: 0.0006396770477294922 |valid accuracy: 0.9876712328767123\n",
      "Epoch: 33 Step: 60 |train loss: 0.005704615265130997 |valid accuracy: 0.9904109589041096\n",
      "Epoch: 34 Step: 0 |train loss: 0.00045739649794995785 |valid accuracy: 0.9931506849315068\n",
      "Epoch: 34 Step: 20 |train loss: 0.0008336401078850031 |valid accuracy: 0.9945205479452055\n",
      "Epoch: 34 Step: 40 |train loss: 0.002227103803306818 |valid accuracy: 0.989041095890411\n",
      "Epoch: 34 Step: 60 |train loss: 0.00022563934908248484 |valid accuracy: 0.9931506849315068\n",
      "Epoch: 35 Step: 0 |train loss: 0.032948922365903854 |valid accuracy: 0.9931506849315068\n",
      "Epoch: 35 Step: 20 |train loss: 0.0014761185739189386 |valid accuracy: 0.9945205479452055\n",
      "Epoch: 35 Step: 40 |train loss: 0.02319430746138096 |valid accuracy: 0.9917808219178083\n",
      "Epoch: 35 Step: 60 |train loss: 0.0013884353684261441 |valid accuracy: 0.9958904109589041\n",
      "Epoch: 36 Step: 0 |train loss: 0.021456044167280197 |valid accuracy: 0.9945205479452055\n",
      "Epoch: 36 Step: 20 |train loss: 0.0003403186856303364 |valid accuracy: 0.9917808219178083\n",
      "Epoch: 36 Step: 40 |train loss: 0.0026102112606167793 |valid accuracy: 0.9904109589041096\n",
      "Epoch: 36 Step: 60 |train loss: 0.02072061598300934 |valid accuracy: 0.9958904109589041\n",
      "Epoch: 37 Step: 0 |train loss: 0.00041180133121088147 |valid accuracy: 0.9958904109589041\n",
      "Epoch: 37 Step: 20 |train loss: 0.00213670264929533 |valid accuracy: 0.9917808219178083\n",
      "Epoch: 37 Step: 40 |train loss: 0.0009288024739362299 |valid accuracy: 0.9849315068493151\n",
      "Epoch: 37 Step: 60 |train loss: 0.00035678385756909847 |valid accuracy: 0.989041095890411\n",
      "Epoch: 38 Step: 0 |train loss: 0.029169050976634026 |valid accuracy: 0.9849315068493151\n",
      "Epoch: 38 Step: 20 |train loss: 0.0010170078603550792 |valid accuracy: 0.9876712328767123\n",
      "Epoch: 38 Step: 40 |train loss: 0.015748992562294006 |valid accuracy: 0.9904109589041096\n",
      "Epoch: 38 Step: 60 |train loss: 0.0018231439171358943 |valid accuracy: 0.9904109589041096\n",
      "Epoch: 39 Step: 0 |train loss: 0.000281887041637674 |valid accuracy: 0.989041095890411\n",
      "Epoch: 39 Step: 20 |train loss: 0.0009305286221206188 |valid accuracy: 0.9917808219178083\n",
      "Epoch: 39 Step: 40 |train loss: 0.0007527160923928022 |valid accuracy: 0.9945205479452055\n",
      "Epoch: 39 Step: 60 |train loss: 0.0005069065373390913 |valid accuracy: 0.9958904109589041\n",
      "Epoch: 40 Step: 0 |train loss: 0.0009404897573404014 |valid accuracy: 0.9958904109589041\n",
      "Epoch: 40 Step: 20 |train loss: 0.00029198170523159206 |valid accuracy: 0.9958904109589041\n",
      "Epoch: 40 Step: 40 |train loss: 0.0009569310932420194 |valid accuracy: 0.9972602739726028\n",
      "Epoch: 40 Step: 60 |train loss: 0.0004507947014644742 |valid accuracy: 0.9972602739726028\n",
      "Epoch: 41 Step: 0 |train loss: 0.00024696349282748997 |valid accuracy: 0.9972602739726028\n",
      "Epoch: 41 Step: 20 |train loss: 0.00018775940407067537 |valid accuracy: 0.9958904109589041\n",
      "Epoch: 41 Step: 40 |train loss: 0.024381814524531364 |valid accuracy: 0.9958904109589041\n",
      "Epoch: 41 Step: 60 |train loss: 0.00025391101371496916 |valid accuracy: 0.9958904109589041\n",
      "Epoch: 42 Step: 0 |train loss: 0.0002932691713795066 |valid accuracy: 0.9958904109589041\n",
      "Epoch: 42 Step: 20 |train loss: 0.00021610260591842234 |valid accuracy: 0.9972602739726028\n",
      "Epoch: 42 Step: 40 |train loss: 0.002792258281260729 |valid accuracy: 0.9931506849315068\n",
      "Epoch: 42 Step: 60 |train loss: 0.0002716922899708152 |valid accuracy: 0.9958904109589041\n",
      "Epoch: 43 Step: 0 |train loss: 0.00025972365983761847 |valid accuracy: 0.9958904109589041\n",
      "Epoch: 43 Step: 20 |train loss: 0.0004326581838540733 |valid accuracy: 0.9945205479452055\n",
      "Epoch: 43 Step: 40 |train loss: 0.001818244461901486 |valid accuracy: 0.9931506849315068\n",
      "Epoch: 43 Step: 60 |train loss: 0.0019041490741074085 |valid accuracy: 0.9904109589041096\n",
      "Epoch: 44 Step: 0 |train loss: 0.008112127892673016 |valid accuracy: 0.989041095890411\n",
      "Epoch: 44 Step: 20 |train loss: 0.0003727340663317591 |valid accuracy: 0.9931506849315068\n",
      "Epoch: 44 Step: 40 |train loss: 0.004937560763210058 |valid accuracy: 0.9835616438356164\n",
      "Epoch: 44 Step: 60 |train loss: 0.011948227882385254 |valid accuracy: 0.989041095890411\n",
      "Epoch: 45 Step: 0 |train loss: 0.0029592704959213734 |valid accuracy: 0.989041095890411\n",
      "Epoch: 45 Step: 20 |train loss: 0.0006056499551050365 |valid accuracy: 0.9904109589041096\n",
      "Epoch: 45 Step: 40 |train loss: 0.00045040130498819053 |valid accuracy: 0.9863013698630136\n",
      "Epoch: 45 Step: 60 |train loss: 0.002349095419049263 |valid accuracy: 0.9849315068493151\n",
      "Epoch: 46 Step: 0 |train loss: 0.0010312652448192239 |valid accuracy: 0.9863013698630136\n"
     ]
    },
    {
     "name": "stdout",
     "output_type": "stream",
     "text": [
      "Epoch: 46 Step: 20 |train loss: 0.0020725964568555355 |valid accuracy: 0.9904109589041096\n",
      "Epoch: 46 Step: 40 |train loss: 0.0002481269766576588 |valid accuracy: 0.9917808219178083\n",
      "Epoch: 46 Step: 60 |train loss: 0.0004487276019062847 |valid accuracy: 0.9904109589041096\n",
      "Epoch: 47 Step: 0 |train loss: 0.0005193996476009488 |valid accuracy: 0.9917808219178083\n",
      "Epoch: 47 Step: 20 |train loss: 0.0032065415289252996 |valid accuracy: 0.9917808219178083\n",
      "Epoch: 47 Step: 40 |train loss: 0.0002647113869898021 |valid accuracy: 0.989041095890411\n",
      "Epoch: 47 Step: 60 |train loss: 0.0003568553947843611 |valid accuracy: 0.9904109589041096\n",
      "Epoch: 48 Step: 0 |train loss: 0.00011231422104174271 |valid accuracy: 0.9917808219178083\n",
      "Epoch: 48 Step: 20 |train loss: 0.00021629333787132055 |valid accuracy: 0.9931506849315068\n",
      "Epoch: 48 Step: 40 |train loss: 0.00015152453852351755 |valid accuracy: 0.9931506849315068\n",
      "Epoch: 48 Step: 60 |train loss: 0.00022480488405562937 |valid accuracy: 0.9945205479452055\n",
      "Epoch: 49 Step: 0 |train loss: 0.00014149189519230276 |valid accuracy: 0.9958904109589041\n",
      "Epoch: 49 Step: 20 |train loss: 0.00016059399058576673 |valid accuracy: 0.9958904109589041\n",
      "Epoch: 49 Step: 40 |train loss: 0.0001573991758050397 |valid accuracy: 0.9972602739726028\n",
      "Epoch: 49 Step: 60 |train loss: 0.00010252952779410407 |valid accuracy: 0.9972602739726028\n",
      "Epoch: 50 Step: 0 |train loss: 0.0007651996565982699 |valid accuracy: 0.9972602739726028\n",
      "Epoch: 50 Step: 20 |train loss: 0.00011901855759788305 |valid accuracy: 0.9972602739726028\n",
      "Epoch: 50 Step: 40 |train loss: 6.883621244924143e-05 |valid accuracy: 0.9972602739726028\n",
      "Epoch: 50 Step: 60 |train loss: 0.0006624936941079795 |valid accuracy: 0.9972602739726028\n",
      "Epoch: 51 Step: 0 |train loss: 0.00014630318037234247 |valid accuracy: 0.9972602739726028\n",
      "Epoch: 51 Step: 20 |train loss: 0.0002038907987298444 |valid accuracy: 0.9972602739726028\n",
      "Epoch: 51 Step: 40 |train loss: 5.557537224376574e-05 |valid accuracy: 0.9972602739726028\n",
      "Epoch: 51 Step: 60 |train loss: 0.0001443529181415215 |valid accuracy: 0.9972602739726028\n",
      "Epoch: 52 Step: 0 |train loss: 0.0001460409112041816 |valid accuracy: 0.9972602739726028\n",
      "Epoch: 52 Step: 20 |train loss: 7.915973401395604e-05 |valid accuracy: 0.9972602739726028\n",
      "Epoch: 52 Step: 40 |train loss: 0.00010513305460335687 |valid accuracy: 0.9972602739726028\n",
      "Epoch: 52 Step: 60 |train loss: 0.0005240726750344038 |valid accuracy: 0.9972602739726028\n",
      "Epoch: 53 Step: 0 |train loss: 9.080886957235634e-05 |valid accuracy: 0.9972602739726028\n",
      "Epoch: 53 Step: 20 |train loss: 0.0002947998000308871 |valid accuracy: 0.9972602739726028\n",
      "Epoch: 53 Step: 40 |train loss: 6.79540607961826e-05 |valid accuracy: 0.9972602739726028\n",
      "Epoch: 53 Step: 60 |train loss: 7.028579420875758e-05 |valid accuracy: 0.9972602739726028\n",
      "Epoch: 54 Step: 0 |train loss: 7.282733713509515e-05 |valid accuracy: 0.9972602739726028\n",
      "Epoch: 54 Step: 20 |train loss: 0.00014349937555380166 |valid accuracy: 0.9986301369863013\n",
      "Epoch: 54 Step: 40 |train loss: 0.003030192805454135 |valid accuracy: 0.9917808219178083\n",
      "Epoch: 54 Step: 60 |train loss: 7.944583921926096e-05 |valid accuracy: 0.9958904109589041\n",
      "Epoch: 55 Step: 0 |train loss: 9.143352508544922e-05 |valid accuracy: 0.9945205479452055\n",
      "Epoch: 55 Step: 20 |train loss: 8.886813884600997e-05 |valid accuracy: 0.9917808219178083\n",
      "Epoch: 55 Step: 40 |train loss: 0.0943695530295372 |valid accuracy: 0.9917808219178083\n",
      "Epoch: 55 Step: 60 |train loss: 0.00013565539848059416 |valid accuracy: 0.9931506849315068\n",
      "Epoch: 56 Step: 0 |train loss: 0.0008772802539169788 |valid accuracy: 0.9931506849315068\n",
      "Epoch: 56 Step: 20 |train loss: 8.239268936449662e-05 |valid accuracy: 0.9931506849315068\n",
      "Epoch: 56 Step: 40 |train loss: 0.00012847900507040322 |valid accuracy: 0.9931506849315068\n",
      "Epoch: 56 Step: 60 |train loss: 0.00031829357612878084 |valid accuracy: 0.9917808219178083\n",
      "Epoch: 57 Step: 0 |train loss: 0.00032459257636219263 |valid accuracy: 0.9917808219178083\n",
      "Epoch: 57 Step: 20 |train loss: 0.0001220893900608644 |valid accuracy: 0.9931506849315068\n",
      "Epoch: 57 Step: 40 |train loss: 0.0003429269709158689 |valid accuracy: 0.9917808219178083\n",
      "Epoch: 57 Step: 60 |train loss: 0.012619581073522568 |valid accuracy: 0.9849315068493151\n",
      "Epoch: 58 Step: 0 |train loss: 0.0013017940800637007 |valid accuracy: 0.9849315068493151\n",
      "Epoch: 58 Step: 20 |train loss: 0.00253328331746161 |valid accuracy: 0.9849315068493151\n",
      "Epoch: 58 Step: 40 |train loss: 0.0015666914405301213 |valid accuracy: 0.989041095890411\n",
      "Epoch: 58 Step: 60 |train loss: 0.017246440052986145 |valid accuracy: 0.989041095890411\n",
      "Epoch: 59 Step: 0 |train loss: 0.03384827449917793 |valid accuracy: 0.9917808219178083\n",
      "Epoch: 59 Step: 20 |train loss: 0.030360041186213493 |valid accuracy: 0.9931506849315068\n",
      "Epoch: 59 Step: 40 |train loss: 0.05513783544301987 |valid accuracy: 0.989041095890411\n",
      "Epoch: 59 Step: 60 |train loss: 0.0024607349187135696 |valid accuracy: 0.9821917808219178\n",
      "Epoch: 60 Step: 0 |train loss: 0.00040451527456752956 |valid accuracy: 0.9876712328767123\n",
      "Epoch: 60 Step: 20 |train loss: 0.002115326002240181 |valid accuracy: 0.989041095890411\n",
      "Epoch: 60 Step: 40 |train loss: 0.06948234885931015 |valid accuracy: 0.9917808219178083\n",
      "Epoch: 60 Step: 60 |train loss: 0.03607497364282608 |valid accuracy: 0.9917808219178083\n",
      "Epoch: 61 Step: 0 |train loss: 0.00020301819313317537 |valid accuracy: 0.9931506849315068\n",
      "Epoch: 61 Step: 20 |train loss: 0.00033515453105792403 |valid accuracy: 0.9945205479452055\n",
      "Epoch: 61 Step: 40 |train loss: 0.0007382202311418951 |valid accuracy: 0.9958904109589041\n",
      "Epoch: 61 Step: 60 |train loss: 0.00012047290510963649 |valid accuracy: 0.9958904109589041\n",
      "Epoch: 62 Step: 0 |train loss: 0.0005440187524072826 |valid accuracy: 0.9958904109589041\n",
      "Epoch: 62 Step: 20 |train loss: 0.0005538940313272178 |valid accuracy: 0.9945205479452055\n",
      "Epoch: 62 Step: 40 |train loss: 0.0017636108677834272 |valid accuracy: 0.9958904109589041\n",
      "Epoch: 62 Step: 60 |train loss: 0.00041543005499988794 |valid accuracy: 0.9972602739726028\n",
      "Epoch: 63 Step: 0 |train loss: 0.00016897200839594007 |valid accuracy: 0.9972602739726028\n",
      "Epoch: 63 Step: 20 |train loss: 8.254528074758127e-05 |valid accuracy: 0.9958904109589041\n",
      "Epoch: 63 Step: 40 |train loss: 0.00014956474478822201 |valid accuracy: 0.9972602739726028\n",
      "Epoch: 63 Step: 60 |train loss: 0.00030753135797567666 |valid accuracy: 0.9972602739726028\n",
      "Epoch: 64 Step: 0 |train loss: 0.0002470636391080916 |valid accuracy: 0.9972602739726028\n",
      "Epoch: 64 Step: 20 |train loss: 0.0005789518472738564 |valid accuracy: 0.9958904109589041\n",
      "Epoch: 64 Step: 40 |train loss: 0.00031082628993317485 |valid accuracy: 0.9917808219178083\n",
      "Epoch: 64 Step: 60 |train loss: 0.0001091194135369733 |valid accuracy: 0.9931506849315068\n",
      "Epoch: 65 Step: 0 |train loss: 0.008226518519222736 |valid accuracy: 0.9945205479452055\n",
      "Epoch: 65 Step: 20 |train loss: 0.0001461648935219273 |valid accuracy: 0.9958904109589041\n",
      "Epoch: 65 Step: 40 |train loss: 0.0024487830232828856 |valid accuracy: 0.9972602739726028\n",
      "Epoch: 65 Step: 60 |train loss: 0.00038576603401452303 |valid accuracy: 0.9986301369863013\n",
      "Epoch: 66 Step: 0 |train loss: 0.00012845992750953883 |valid accuracy: 0.9986301369863013\n",
      "Epoch: 66 Step: 20 |train loss: 0.00043673039181157947 |valid accuracy: 0.9958904109589041\n",
      "Epoch: 66 Step: 40 |train loss: 0.0003204679524060339 |valid accuracy: 0.9972602739726028\n",
      "Epoch: 66 Step: 60 |train loss: 0.000359764089807868 |valid accuracy: 0.9958904109589041\n",
      "Epoch: 67 Step: 0 |train loss: 0.0001260757417185232 |valid accuracy: 0.9958904109589041\n",
      "Epoch: 67 Step: 20 |train loss: 0.00015385627921205014 |valid accuracy: 0.9972602739726028\n",
      "Epoch: 67 Step: 40 |train loss: 0.0001277017581742257 |valid accuracy: 0.9972602739726028\n",
      "Epoch: 67 Step: 60 |train loss: 0.0014902114635333419 |valid accuracy: 0.9972602739726028\n",
      "Epoch: 68 Step: 0 |train loss: 0.0007647800375707448 |valid accuracy: 0.9972602739726028\n",
      "Epoch: 68 Step: 20 |train loss: 6.438255513785407e-05 |valid accuracy: 0.9972602739726028\n",
      "Epoch: 68 Step: 40 |train loss: 3.4394262911519036e-05 |valid accuracy: 0.9972602739726028\n",
      "Epoch: 68 Step: 60 |train loss: 0.0003718423831742257 |valid accuracy: 0.9972602739726028\n",
      "Epoch: 69 Step: 0 |train loss: 6.609439878957346e-05 |valid accuracy: 0.9972602739726028\n"
     ]
    },
    {
     "name": "stdout",
     "output_type": "stream",
     "text": [
      "Epoch: 69 Step: 20 |train loss: 6.612777360714972e-05 |valid accuracy: 0.9972602739726028\n",
      "Epoch: 69 Step: 40 |train loss: 9.092330583371222e-05 |valid accuracy: 0.9972602739726028\n",
      "Epoch: 69 Step: 60 |train loss: 5.0578117225086316e-05 |valid accuracy: 0.9972602739726028\n",
      "Epoch: 70 Step: 0 |train loss: 0.00017564772861078382 |valid accuracy: 0.9972602739726028\n",
      "Epoch: 70 Step: 20 |train loss: 6.864070746814832e-05 |valid accuracy: 0.9972602739726028\n",
      "Epoch: 70 Step: 40 |train loss: 2.7503967430675402e-05 |valid accuracy: 0.9958904109589041\n",
      "Epoch: 70 Step: 60 |train loss: 0.00017629146168474108 |valid accuracy: 0.9958904109589041\n",
      "Epoch: 71 Step: 0 |train loss: 5.402088208938949e-05 |valid accuracy: 0.9958904109589041\n",
      "Epoch: 71 Step: 20 |train loss: 0.00010256767563987523 |valid accuracy: 0.9958904109589041\n",
      "End optimization, as there is no inprovement for a long time!\n"
     ]
    }
   ],
   "source": [
    "best_validation_accuracy = 0.0\n",
    "last_improvement = 0\n",
    "require_improvement =3000\n",
    "total_iterations = 0\n",
    "break_signal=0\n",
    "b_x=torch.zeros((BATCH_SIZE,1,16,16))\n",
    "accs=[]\n",
    "\n",
    "#training and testing\n",
    "for epoch in range(EPOCH):\n",
    "    train_loader = Data.DataLoader(dataset=dataset,batch_size=BATCH_SIZE, shuffle=True,drop_last=True)\n",
    "    for step,(x,y) in enumerate(train_loader):\n",
    "        for i in range(BATCH_SIZE):\n",
    "            b_x[i] = transform(x[i])\n",
    "        b_x=Variable(x).cuda()     #GPU\n",
    "        b_y=Variable(y).cuda()     #GPU\n",
    "        total_iterations+=1\n",
    "        output=resnet(b_x)\n",
    "        loss=loss_func(output,b_y)\n",
    "        optimizer.zero_grad()   #clear gradients for this training step\n",
    "        loss.backward()         #backpropagation,compute gradients\n",
    "        optimizer.step()        #apply gradients\n",
    "        if step%20==0:\n",
    "            valid_output =resnet(valid_x).cuda()\n",
    "            pred_y = torch.max(valid_output, 1)[1].cuda().data.squeeze()\n",
    "            accuracy=sum(pred_y==valid_y)/valid_num\n",
    "            accs.append(accuracy)\n",
    "\n",
    "            if accuracy > best_validation_accuracy:  # capture the model of highest presicion\n",
    "                best_validation_accuracy = accuracy\n",
    "                last_improvement = total_iterations\n",
    "                torch.save(resnet, path+Modelname)\n",
    "        if total_iterations - last_improvement > require_improvement:\n",
    "            print(\"End training, as there is no inprovement for a long time!\")\n",
    "            break_signal=1\n",
    "            break\n",
    "    if break_signal: break\n",
    "    if (epoch + 1) % 30 == 0:\n",
    "        LR /=2\n",
    "        optimizer = torch.optim.Adam(resnet.parameters(), lr=LR)"
   ]
  },
  {
   "cell_type": "code",
   "execution_count": 14,
   "metadata": {},
   "outputs": [
    {
     "name": "stdout",
     "output_type": "stream",
     "text": [
      "Valid accuracy 0.9986301369863013\n"
     ]
    }
   ],
   "source": [
    "#check the performace of ResNet\n",
    "resnet=torch.load(path+Modelname)\n",
    "valid_output =resnet(valid_x).cuda()\n",
    "pred_y = torch.max(valid_output, 1)[1].cuda().data.squeeze()\n",
    "accuracy=sum(pred_y==valid_y)/valid_num\n",
    "print('Valid accuracy',accuracy)"
   ]
  },
  {
   "cell_type": "code",
   "execution_count": 15,
   "metadata": {},
   "outputs": [
    {
     "data": {
      "text/plain": [
       "<matplotlib.legend.Legend at 0x1d44eff0c88>"
      ]
     },
     "execution_count": 15,
     "metadata": {},
     "output_type": "execute_result"
    },
    {
     "data": {
      "image/png": "[encoded data removed]",
      "text/plain": [
       "<Figure size 432x288 with 1 Axes>"
      ]
     },
     "metadata": {},
     "output_type": "display_data"
    }
   ],
   "source": [
    "plt.plot(accs,'b-',label='Valid-accuracy')\n",
    "plt.ylabel(\"Accuracy\")\n",
    "plt.xlabel(\"Iterations\")\n",
    "plt.legend()"
   ]
  },
  {
   "cell_type": "code",
   "execution_count": 16,
   "metadata": {},
   "outputs": [
    {
     "name": "stdout",
     "output_type": "stream",
     "text": [
      "0.976581963129\n"
     ]
    }
   ],
   "source": [
    "# Calculate test accuracy\n",
    "test_x=ziptest[:,1:].reshape(-1,16,16)\n",
    "test_x=torch.from_numpy(test_x).type(torch.FloatTensor)     #transform to tensor from\n",
    "test_x=Variable(torch.unsqueeze(test_x,dim=1),volatile=True).cuda()\n",
    "test_y=ziptest[:,0]\n",
    "\n",
    "valid_output = resnet(test_x)\n",
    "pred_y = torch.max(valid_output, 1)[1].cuda().data.squeeze()\n",
    "pred_y=pred_y.cpu()\n",
    "pred_y=pred_y.numpy()\n",
    "\n",
    "from sklearn.metrics import accuracy_score\n",
    "score=accuracy_score(test_y,pred_y)\n",
    "print(score)"
   ]
  },
  {
   "cell_type": "markdown",
   "metadata": {
    "collapsed": true
   },
   "source": [
    "###### The highest accuracy achieved by Residual Neural Network in test dataset is 0.97658, which is higher than that of KNN,SVM, Random Forest and MLPC"
   ]
  }
 ],
 "metadata": {
  "kernelspec": {
   "display_name": "Python 3",
   "language": "python",
   "name": "python3"
  },
  "language_info": {
   "codemirror_mode": {
    "name": "ipython",
    "version": 3
   },
   "file_extension": ".py",
   "mimetype": "text/x-python",
   "name": "python",
   "nbconvert_exporter": "python",
   "pygments_lexer": "ipython3",
   "version": "3.6.6"
  }
 },
 "nbformat": 4,
 "nbformat_minor": 2
}
